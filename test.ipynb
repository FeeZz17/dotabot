{
 "cells": [
  {
   "cell_type": "code",
   "execution_count": 2,
   "metadata": {},
   "outputs": [],
   "source": [
    "import httpx\n",
    "r = httpx.get(\"https://api.opendota.com/api/scenarios/laneRoles?hero_id=101\")"
   ]
  },
  {
   "cell_type": "code",
   "execution_count": 3,
   "metadata": {},
   "outputs": [
    {
     "data": {
      "text/plain": [
       "[{'hero_id': 101, 'lane_role': 2, 'time': 900, 'games': '1', 'wins': '0'},\n",
       " {'hero_id': 101, 'lane_role': 3, 'time': 900, 'games': '1', 'wins': '1'},\n",
       " {'hero_id': 101, 'lane_role': 1, 'time': 1800, 'games': '30', 'wins': '11'},\n",
       " {'hero_id': 101, 'lane_role': 2, 'time': 1800, 'games': '8', 'wins': '3'},\n",
       " {'hero_id': 101, 'lane_role': 3, 'time': 1800, 'games': '43', 'wins': '17'},\n",
       " {'hero_id': 101, 'lane_role': 1, 'time': 2700, 'games': '14', 'wins': '6'},\n",
       " {'hero_id': 101, 'lane_role': 2, 'time': 2700, 'games': '8', 'wins': '5'},\n",
       " {'hero_id': 101, 'lane_role': 3, 'time': 2700, 'games': '69', 'wins': '32'},\n",
       " {'hero_id': 101, 'lane_role': 1, 'time': 3600, 'games': '10', 'wins': '5'},\n",
       " {'hero_id': 101, 'lane_role': 2, 'time': 3600, 'games': '3', 'wins': '3'},\n",
       " {'hero_id': 101, 'lane_role': 3, 'time': 3600, 'games': '18', 'wins': '9'},\n",
       " {'hero_id': 101, 'lane_role': 1, 'time': 5400, 'games': '3', 'wins': '0'},\n",
       " {'hero_id': 101, 'lane_role': 3, 'time': 5400, 'games': '4', 'wins': '3'}]"
      ]
     },
     "execution_count": 3,
     "metadata": {},
     "output_type": "execute_result"
    }
   ],
   "source": [
    "r.json()"
   ]
  },
  {
   "cell_type": "code",
   "execution_count": 3,
   "metadata": {},
   "outputs": [],
   "source": [
    "#Распределение на милишников и ренжевиков\n",
    "Ranged = []\n",
    "Melee = []\n",
    "\n",
    "for i in r.json():\n",
    "    if i[\"attack_type\"] == \"Melee\":\n",
    "        Melee.append(i)\n",
    "    if i[\"attack_type\"] == \"Ranged\":\n",
    "        Ranged.append(i)"
   ]
  },
  {
   "cell_type": "code",
   "execution_count": 5,
   "metadata": {},
   "outputs": [],
   "source": [
    "Intellect = []\n",
    "Agility = []\n",
    "Universal = []\n",
    "Strange = []\n",
    "\n",
    "for i in Ranged:\n",
    "    if i['primary_attr'] == \"agi\":\n",
    "        Agility.append(i)\n",
    "    elif i['primary_attr'] == \"int\":\n",
    "        Intellect.append(i)\n",
    "    elif i['primary_attr'] == \"all\":\n",
    "        Universal.append(i)\n",
    "    elif i['primary_attr'] == \"str\":\n",
    "        Strange.append(i)\n",
    "for i in Melee:\n",
    "    if i['primary_attr'] == \"agi\":\n",
    "        Agility.append(i)\n",
    "    elif i['primary_attr'] == \"int\":\n",
    "        Intellect.append(i)\n",
    "    elif i['primary_attr'] == \"all\":\n",
    "        Universal.append(i)\n",
    "    elif i['primary_attr'] == \"str\":\n",
    "        Strange.append(i)\n"
   ]
  },
  {
   "cell_type": "code",
   "execution_count": null,
   "metadata": {},
   "outputs": [],
   "source": []
  }
 ],
 "metadata": {
  "kernelspec": {
   "display_name": "venv",
   "language": "python",
   "name": "python3"
  },
  "language_info": {
   "codemirror_mode": {
    "name": "ipython",
    "version": 3
   },
   "file_extension": ".py",
   "mimetype": "text/x-python",
   "name": "python",
   "nbconvert_exporter": "python",
   "pygments_lexer": "ipython3",
   "version": "3.11.6"
  }
 },
 "nbformat": 4,
 "nbformat_minor": 2
}
